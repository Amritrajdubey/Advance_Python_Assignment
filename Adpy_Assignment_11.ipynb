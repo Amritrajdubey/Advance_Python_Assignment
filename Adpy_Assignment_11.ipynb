{
 "cells": [
  {
   "cell_type": "markdown",
   "id": "8466bedd",
   "metadata": {},
   "source": [
    "Q1. What is the concept of a metaclass?"
   ]
  },
  {
   "cell_type": "markdown",
   "id": "235611a4",
   "metadata": {},
   "source": [
    "Metaclass is class whose instances are also class.Meta class defines behaviour of certain class and instances."
   ]
  },
  {
   "cell_type": "markdown",
   "id": "11f50af8",
   "metadata": {},
   "source": [
    "Q2. What is the best way to declare a class's metaclass?"
   ]
  },
  {
   "cell_type": "markdown",
   "id": "016ce20e",
   "metadata": {},
   "source": [
    "We can declare class's metaclass by following methods:\n",
    "\n",
    "1) We can use word metaclass to declare metaclass within the class :\n",
    "        \n",
    "        class XYZ (metaclass = xyz):\n",
    "            pass\n",
    "            \n",
    "        In above 'xyz' is the metaclass used to create 'XYZ' class\n",
    "        \n",
    "2) We can use __metaclass__ to declare metaclass:\n",
    "        class XYZ:\n",
    "            __metaclass__ = xyz\n",
    "            pass\n",
    "        In above 'xyz' is the metaclass used to create 'XYZ' class"
   ]
  },
  {
   "cell_type": "markdown",
   "id": "57a1e779",
   "metadata": {},
   "source": [
    "Q3. How do class decorators overlap with metaclasses for handling classes?"
   ]
  },
  {
   "cell_type": "markdown",
   "id": "0f8ecfa7",
   "metadata": {},
   "source": [
    "Both decorator and metaclass are used to modify behaviour of class. Decorator is flexible and easy to use thus suited for simple modification vs metaclass is complex and define more complex behaviour of class thus used for complex and specialized tasks.\n",
    "\n",
    "1) Decorator code:\n",
    "def class_decorator(cls):\n",
    "    cls.new_attr = 'This is a new class attribute of decorator.'\n",
    "    return cls\n",
    "\n",
    "@class_decorator\n",
    "class MyClass:\n",
    "    pass\n",
    "\n",
    "print(MyClass.new_attr)  # Output: This is a new class attribute of decorator.\n",
    "\n",
    "\n",
    "2) Meta class code:\n",
    "class Meta_Class(type):\n",
    "    def __new__(cls, name, bases, attrs):\n",
    "        attrs['new_attr'] = 'This is a new class attribute for metaclass.'\n",
    "        return super().__new__(cls, name, bases, attrs)\n",
    "\n",
    "class MyClass(metaclass=Meta_Class):\n",
    "    pass\n",
    "\n",
    "print(MyClass.new_attr)  # Output: This is a new class attribute for metaclass.\n"
   ]
  },
  {
   "cell_type": "markdown",
   "id": "1b15355b",
   "metadata": {},
   "source": [
    "Q4. How do class decorators overlap with metaclasses for handling instances?"
   ]
  },
  {
   "cell_type": "markdown",
   "id": "2cf024dc",
   "metadata": {},
   "source": [
    "Both of them overlap in the ability to modify the instances , however hhey varry in the way they approach. Decorator modify the behaviour of instance by modifying the class they belong vs metaclass modify the way they are created rather metaclass define custom __call__ to do so.\n",
    "\n",
    "- Modification using decorator:\n",
    "\n",
    "def Instance_decorator(cls):\n",
    "    class NewClass(cls):\n",
    "        def new_method(self):\n",
    "            return \"This is a new method to update.\"\n",
    "    return NewClass\n",
    "\n",
    "@Instance_decorator\n",
    "class MyClass:\n",
    "    def old_method(self):\n",
    "        return \"This is an old method to eliminate.\"\n",
    "\n",
    "my_instance = MyClass()\n",
    "\n",
    "print(my_instance.old_method())  # Output: This is an old method to eliminate.\n",
    "print(my_instance.new_method())  # Output: This is a new method to update.\n",
    "\n",
    "- Modification using metaclass\n",
    "\n",
    "class MyMetaClass(type):\n",
    "    def __call__(cls, *x, **xy):\n",
    "        instance = super().__call__(*x, **xy)\n",
    "        instance.new_attr = \"This is a new instance attribute to update.\"\n",
    "        return instance\n",
    "\n",
    "class MyClass(metaclass=MyMetaClass):\n",
    "    pass\n",
    "\n",
    "my_instance = MyClass()\n",
    "print(my_instance.new_attr)  # Output: This is a new instance attribute to update.\n",
    "\n"
   ]
  },
  {
   "cell_type": "code",
   "execution_count": null,
   "id": "9affee57",
   "metadata": {},
   "outputs": [],
   "source": []
  },
  {
   "cell_type": "code",
   "execution_count": null,
   "id": "fca63b98",
   "metadata": {},
   "outputs": [],
   "source": []
  }
 ],
 "metadata": {
  "kernelspec": {
   "display_name": "Python 3 (ipykernel)",
   "language": "python",
   "name": "python3"
  },
  "language_info": {
   "codemirror_mode": {
    "name": "ipython",
    "version": 3
   },
   "file_extension": ".py",
   "mimetype": "text/x-python",
   "name": "python",
   "nbconvert_exporter": "python",
   "pygments_lexer": "ipython3",
   "version": "3.9.13"
  }
 },
 "nbformat": 4,
 "nbformat_minor": 5
}
