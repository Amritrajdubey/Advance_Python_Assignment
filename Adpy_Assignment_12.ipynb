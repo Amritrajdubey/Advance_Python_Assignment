{
 "cells": [
  {
   "cell_type": "markdown",
   "id": "247d3817",
   "metadata": {},
   "source": [
    "Q1. Does assigning a value to a string's indexed character violate Python's string immutability?"
   ]
  },
  {
   "cell_type": "markdown",
   "id": "7412f27c",
   "metadata": {},
   "source": [
    "Yes assigning a value to a string's character violate Python's string immutability bcz once string is created it's immutable and when we try to assign values to specific characters in string we attempt to change existing string which is't allowed."
   ]
  },
  {
   "cell_type": "markdown",
   "id": "5b19d06a",
   "metadata": {},
   "source": [
    "Q2. Does using the += operator to concatenate strings violate Python&#39;s string immutability? Why or why not?"
   ]
  },
  {
   "cell_type": "markdown",
   "id": "93c72051",
   "metadata": {},
   "source": [
    "Use of += operator to concatenate strings doesn't violate string immutability. String is immutable one created and when we use += operator rather it add up the values to create new string rather that interchanging values."
   ]
  },
  {
   "cell_type": "code",
   "execution_count": 11,
   "id": "c6b82d66",
   "metadata": {},
   "outputs": [
    {
     "name": "stdout",
     "output_type": "stream",
     "text": [
      "Hii Man\n",
      " Man\n"
     ]
    }
   ],
   "source": [
    "st1 ='Hii'\n",
    "st2 =' Man'\n",
    "st1 += st2\n",
    "\n",
    "print(st1)\n",
    "print(st2)"
   ]
  },
  {
   "cell_type": "markdown",
   "id": "618f6efd",
   "metadata": {},
   "source": [
    "Q3. In Python, how many different ways are there to index a character?"
   ]
  },
  {
   "cell_type": "markdown",
   "id": "f0aa5e0c",
   "metadata": {},
   "source": [
    "In python there is only one way to index a character using square bracket []."
   ]
  },
  {
   "cell_type": "code",
   "execution_count": 12,
   "id": "f9c67b39",
   "metadata": {},
   "outputs": [
    {
     "data": {
      "text/plain": [
       "'a'"
      ]
     },
     "execution_count": 12,
     "metadata": {},
     "output_type": "execute_result"
    }
   ],
   "source": [
    "x = 'Raj'\n",
    "x[1]"
   ]
  },
  {
   "cell_type": "markdown",
   "id": "e13cc17e",
   "metadata": {},
   "source": [
    "Q4. What is the relationship between indexing and slicing?"
   ]
  },
  {
   "cell_type": "markdown",
   "id": "d62441f0",
   "metadata": {},
   "source": [
    "Indexing and slicing both are way to access element of string or list. Indexing is used to position specified position element by defing the numeric position vs slicing is used to access specific portion of sequence by provoding range."
   ]
  },
  {
   "cell_type": "markdown",
   "id": "83f96503",
   "metadata": {},
   "source": [
    "Q5. What is an indexed character's exact data type? What is the data form of a slicing-generated substring?"
   ]
  },
  {
   "cell_type": "markdown",
   "id": "d2eec264",
   "metadata": {},
   "source": [
    "Indexed and slicing generated character exact data type is same as it's parent data type from where it's extracted"
   ]
  },
  {
   "cell_type": "code",
   "execution_count": 21,
   "id": "c0397b8c",
   "metadata": {},
   "outputs": [
    {
     "name": "stdout",
     "output_type": "stream",
     "text": [
      "<class 'str'> <class 'str'> <class 'str'>\n"
     ]
    }
   ],
   "source": [
    "x = 'Raj'\n",
    "print(f'{type(x)} {type(x[1])} {type(x[0:1])}')"
   ]
  },
  {
   "cell_type": "markdown",
   "id": "d46d04bb",
   "metadata": {},
   "source": [
    "Q6. What is the relationship between string and character 'types' in Python?"
   ]
  },
  {
   "cell_type": "markdown",
   "id": "b227e5ac",
   "metadata": {},
   "source": [
    "In python string is sequence of characters with each characters of length(1) string combining together to from whole and data type of both is same 'str' "
   ]
  },
  {
   "cell_type": "markdown",
   "id": "20a2ee97",
   "metadata": {},
   "source": [
    "Q7. Identify at least two operators and one method that allow you to combine one or more smaller strings to create a larger string."
   ]
  },
  {
   "cell_type": "markdown",
   "id": "b437d61d",
   "metadata": {},
   "source": [
    "Two operator which allow to combine one or more smaller strings to create larger strings is + and +=.\n",
    "One method to combine small strings is join() ."
   ]
  },
  {
   "cell_type": "markdown",
   "id": "bcef8110",
   "metadata": {},
   "source": [
    "Q8. What is the benefit of first checking the target string with in or not in before using the index method to find a substring?"
   ]
  },
  {
   "cell_type": "markdown",
   "id": "543efdbb",
   "metadata": {},
   "source": [
    "By using in or not in to find substring we can check for our desired string sequence either present in the complete string."
   ]
  },
  {
   "cell_type": "code",
   "execution_count": 23,
   "id": "bb86da21",
   "metadata": {},
   "outputs": [
    {
     "name": "stdout",
     "output_type": "stream",
     "text": [
      "Substring is present in the parent string and found at index 10\n"
     ]
    }
   ],
   "source": [
    "s1 = 'Hii there buddy'\n",
    "sub = 'buddy'\n",
    "\n",
    "if sub in s1:\n",
    "    index = s1.index(sub)\n",
    "    print(f'Substring is present in the parent string and found at index {index}')\n",
    "else :\n",
    "    print(f'Substring is not present in the parent string')"
   ]
  },
  {
   "cell_type": "markdown",
   "id": "bc2b5612",
   "metadata": {},
   "source": [
    "Q9. Which operators and built-in string methods produce simple Boolean (true/false) results?"
   ]
  },
  {
   "cell_type": "markdown",
   "id": "1769986b",
   "metadata": {},
   "source": [
    "Operators that produce simple Boolean (True/False):\n",
    "in , not in , + , == , >= , <= , < , >\n",
    "\n",
    "String methods that produce Boolean (True/False):\n",
    "isalpha() , isnum() ,isnumeric(), islower() , isupper() "
   ]
  }
 ],
 "metadata": {
  "kernelspec": {
   "display_name": "Python 3 (ipykernel)",
   "language": "python",
   "name": "python3"
  },
  "language_info": {
   "codemirror_mode": {
    "name": "ipython",
    "version": 3
   },
   "file_extension": ".py",
   "mimetype": "text/x-python",
   "name": "python",
   "nbconvert_exporter": "python",
   "pygments_lexer": "ipython3",
   "version": "3.9.13"
  }
 },
 "nbformat": 4,
 "nbformat_minor": 5
}
